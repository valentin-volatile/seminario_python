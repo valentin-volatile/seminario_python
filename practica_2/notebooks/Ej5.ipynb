{
 "cells": [
  {
   "cell_type": "code",
   "execution_count": 10,
   "id": "1abae2a0-0ab0-4549-be55-ad733d9490da",
   "metadata": {},
   "outputs": [
    {
     "name": "stdin",
     "output_type": "stream",
     "text": [
      "Ingrese su tiempo de reacción en ms: 320\n"
     ]
    },
    {
     "name": "stdout",
     "output_type": "stream",
     "text": [
      "Categoría: Normal\n"
     ]
    }
   ],
   "source": [
    "reaction_time = int(input(\"Ingrese su tiempo de reacción en ms:\"))\n",
    "category = \"\"\n",
    "\n",
    "if(reaction_time < 200): category = \"Rápido\"\n",
    "elif(200 <= reaction_time <= 500): category = \"Normal\"\n",
    "else: category = \"Lento\"\n",
    "\n",
    "print(\"Categoría:\", category)"
   ]
  }
 ],
 "metadata": {
  "kernelspec": {
   "display_name": "Python 3 (ipykernel)",
   "language": "python",
   "name": "python3"
  },
  "language_info": {
   "codemirror_mode": {
    "name": "ipython",
    "version": 3
   },
   "file_extension": ".py",
   "mimetype": "text/x-python",
   "name": "python",
   "nbconvert_exporter": "python",
   "pygments_lexer": "ipython3",
   "version": "3.12.9"
  }
 },
 "nbformat": 4,
 "nbformat_minor": 5
}
