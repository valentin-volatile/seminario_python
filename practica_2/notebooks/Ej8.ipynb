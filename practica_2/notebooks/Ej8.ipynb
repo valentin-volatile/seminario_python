{
 "cells": [
  {
   "cell_type": "code",
   "execution_count": 3,
   "id": "0991f212-6e15-4821-93dc-ef3b572dd977",
   "metadata": {},
   "outputs": [
    {
     "name": "stdin",
     "output_type": "stream",
     "text": [
      "Ingrese la primera palabra: Amor\n",
      "Ingrese la segunda palabra: Roma\n"
     ]
    },
    {
     "name": "stdout",
     "output_type": "stream",
     "text": [
      "Son anagramas.\n"
     ]
    }
   ],
   "source": [
    "import sys\n",
    "import os\n",
    "\n",
    "# Obtener la ruta absoluta del directorio raíz del proyecto\n",
    "sys.path.append(os.path.abspath(\"../src\"))\n",
    "\n",
    "from funciones import check_anagram\n",
    "\n",
    "word1 = input(\"Ingrese la primera palabra:\")\n",
    "word2 = input(\"Ingrese la segunda palabra:\")\n",
    "\n",
    "if(check_anagram(word1, word2)): print(\"Son anagramas.\")\n",
    "else: print(\"No son anagramas.\")"
   ]
  },
  {
   "cell_type": "code",
   "execution_count": null,
   "id": "e1a07e32-987c-4334-b99e-fe5140ac09bc",
   "metadata": {},
   "outputs": [],
   "source": []
  }
 ],
 "metadata": {
  "kernelspec": {
   "display_name": "Python 3 (ipykernel)",
   "language": "python",
   "name": "python3"
  },
  "language_info": {
   "codemirror_mode": {
    "name": "ipython",
    "version": 3
   },
   "file_extension": ".py",
   "mimetype": "text/x-python",
   "name": "python",
   "nbconvert_exporter": "python",
   "pygments_lexer": "ipython3",
   "version": "3.12.9"
  }
 },
 "nbformat": 4,
 "nbformat_minor": 5
}
