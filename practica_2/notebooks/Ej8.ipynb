{
 "cells": [
  {
   "cell_type": "code",
   "execution_count": 1,
   "id": "0991f212-6e15-4821-93dc-ef3b572dd977",
   "metadata": {},
   "outputs": [
    {
     "name": "stdin",
     "output_type": "stream",
     "text": [
      "Ingrese la primera palabra: amor\n",
      "Ingrese la segunda palabra: roma\n"
     ]
    },
    {
     "ename": "AttributeError",
     "evalue": "'str' object has no attribute 'sorted'",
     "output_type": "error",
     "traceback": [
      "\u001b[31m---------------------------------------------------------------------------\u001b[39m",
      "\u001b[31mAttributeError\u001b[39m                            Traceback (most recent call last)",
      "\u001b[36mCell\u001b[39m\u001b[36m \u001b[39m\u001b[32mIn[1]\u001b[39m\u001b[32m, line 12\u001b[39m\n\u001b[32m      9\u001b[39m word1 = \u001b[38;5;28minput\u001b[39m(\u001b[33m\"\u001b[39m\u001b[33mIngrese la primera palabra:\u001b[39m\u001b[33m\"\u001b[39m)\n\u001b[32m     10\u001b[39m word2 = \u001b[38;5;28minput\u001b[39m(\u001b[33m\"\u001b[39m\u001b[33mIngrese la segunda palabra:\u001b[39m\u001b[33m\"\u001b[39m)\n\u001b[32m---> \u001b[39m\u001b[32m12\u001b[39m \u001b[38;5;28;01mif\u001b[39;00m(check_anagram(word1, word2)): \u001b[38;5;28mprint\u001b[39m(\u001b[33m\"\u001b[39m\u001b[33mSon anagramas.\u001b[39m\u001b[33m\"\u001b[39m)\n\u001b[32m     13\u001b[39m \u001b[38;5;28;01melse\u001b[39;00m: \u001b[38;5;28mprint\u001b[39m(\u001b[33m\"\u001b[39m\u001b[33mNo son anagramas.\u001b[39m\u001b[33m\"\u001b[39m)\n",
      "\u001b[36mFile \u001b[39m\u001b[32m~\\seminario_python\\practica_2\\src\\funciones.py:70\u001b[39m, in \u001b[36mcheck_anagram\u001b[39m\u001b[34m(word1, word2)\u001b[39m\n\u001b[32m     69\u001b[39m \u001b[38;5;28;01mdef\u001b[39;00m\u001b[38;5;250m \u001b[39m\u001b[34mcheck_anagram\u001b[39m(word1, word2):\n\u001b[32m---> \u001b[39m\u001b[32m70\u001b[39m \t\u001b[38;5;28;01mreturn\u001b[39;00m \u001b[43mword1\u001b[49m\u001b[43m.\u001b[49m\u001b[43msorted\u001b[49m() == word2.sorted\n",
      "\u001b[31mAttributeError\u001b[39m: 'str' object has no attribute 'sorted'"
     ]
    }
   ],
   "source": [
    "import sys\n",
    "import os\n",
    "\n",
    "# Obtener la ruta absoluta del directorio raíz del proyecto\n",
    "sys.path.append(os.path.abspath(\"../src\"))\n",
    "\n",
    "from funciones import check_anagram\n",
    "\n",
    "word1 = input(\"Ingrese la primera palabra:\")\n",
    "word2 = input(\"Ingrese la segunda palabra:\")\n",
    "\n",
    "if(check_anagram(word1, word2)): print(\"Son anagramas.\")\n",
    "else: print(\"No son anagramas.\")"
   ]
  },
  {
   "cell_type": "code",
   "execution_count": null,
   "id": "e1a07e32-987c-4334-b99e-fe5140ac09bc",
   "metadata": {},
   "outputs": [],
   "source": []
  }
 ],
 "metadata": {
  "kernelspec": {
   "display_name": "Python 3 (ipykernel)",
   "language": "python",
   "name": "python3"
  },
  "language_info": {
   "codemirror_mode": {
    "name": "ipython",
    "version": 3
   },
   "file_extension": ".py",
   "mimetype": "text/x-python",
   "name": "python",
   "nbconvert_exporter": "python",
   "pygments_lexer": "ipython3",
   "version": "3.12.9"
  }
 },
 "nbformat": 4,
 "nbformat_minor": 5
}
