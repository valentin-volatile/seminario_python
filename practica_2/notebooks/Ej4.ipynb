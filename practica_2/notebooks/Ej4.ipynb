{
 "cells": [
  {
   "cell_type": "code",
   "execution_count": 2,
   "id": "971fd27c-28ab-4e7d-abc6-1eb61ab123e6",
   "metadata": {},
   "outputs": [
    {
     "name": "stdout",
     "output_type": "stream",
     "text": [
      "Los nombres de usuario deben:\n",
      "    - Solo contener letras y números\n",
      "    - Contener al menos 5 caractere\n",
      "    - Contener al menos un número\n",
      "    - Contener al menos una mayúscula\n",
      "\n"
     ]
    },
    {
     "name": "stdin",
     "output_type": "stream",
     "text": [
      "Ingrese un nombre de usuario:  Gamer123\n"
     ]
    },
    {
     "name": "stdout",
     "output_type": "stream",
     "text": [
      "El nombre de usuario es válido.\n"
     ]
    }
   ],
   "source": [
    "import sys\n",
    "import os\n",
    "\n",
    "# Obtener la ruta absoluta del directorio raíz del proyecto\n",
    "sys.path.append(os.path.abspath(\"../src\"))\n",
    "\n",
    "from funciones import validate_username\n",
    "\n",
    "print(\"\"\"Los nombres de usuario deben:\n",
    "    - Solo contener letras y números\n",
    "    - Contener al menos 5 caractere\n",
    "    - Contener al menos un número\n",
    "    - Contener al menos una mayúscula\\n\"\"\")\n",
    "\n",
    "username = input(\"Ingrese un nombre de usuario: \")\n",
    "\n",
    "if(validate_username(username)): print(\"El nombre de usuario es válido.\")\n",
    "else: print(\"El nombre de usuario no cumple con los requisitos.\")\n"
   ]
  },
  {
   "cell_type": "code",
   "execution_count": null,
   "id": "348195c4-30dd-492b-a17d-bcf93c37c0bf",
   "metadata": {},
   "outputs": [],
   "source": []
  },
  {
   "cell_type": "code",
   "execution_count": null,
   "id": "dcc1b9df-e674-436d-bf31-c49e7b7c4abb",
   "metadata": {},
   "outputs": [],
   "source": []
  },
  {
   "cell_type": "code",
   "execution_count": null,
   "id": "95f2bd3b-5500-4e70-9478-9cdeff3e2652",
   "metadata": {},
   "outputs": [],
   "source": []
  }
 ],
 "metadata": {
  "kernelspec": {
   "display_name": "Python 3 (ipykernel)",
   "language": "python",
   "name": "python3"
  },
  "language_info": {
   "codemirror_mode": {
    "name": "ipython",
    "version": 3
   },
   "file_extension": ".py",
   "mimetype": "text/x-python",
   "name": "python",
   "nbconvert_exporter": "python",
   "pygments_lexer": "ipython3",
   "version": "3.12.9"
  }
 },
 "nbformat": 4,
 "nbformat_minor": 5
}
