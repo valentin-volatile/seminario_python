{
 "cells": [
  {
   "cell_type": "code",
   "execution_count": 12,
   "id": "f1bc863c-1f2d-408b-945b-004208e4601b",
   "metadata": {},
   "outputs": [
    {
     "name": "stdin",
     "output_type": "stream",
     "text": [
      "Ingrese su usuario:  StreamerPro\n"
     ]
    },
    {
     "name": "stdout",
     "output_type": "stream",
     "text": [
      "Código de descuento: STREAMERPRO-20250329-T7OMKBDGE\n"
     ]
    }
   ],
   "source": [
    "import sys\n",
    "import os\n",
    "import datetime\n",
    "\n",
    "# Obtener la ruta absoluta del directorio raíz del proyecto\n",
    "sys.path.append(os.path.abspath(\"../src\"))\n",
    "\n",
    "from funciones import generate_discount_code\n",
    "\n",
    "username = input(\"Ingrese su usuario: \")\n",
    "date = str(datetime.date.today())\n",
    "\n",
    "if(len(username) > 15): print(\"Usuario demasiado largo\")\n",
    "else: print(\"Código de descuento:\", generate_discount_code(username, date))"
   ]
  },
  {
   "cell_type": "code",
   "execution_count": null,
   "id": "42ad67a2-ff54-4cee-8b25-865ab2e2599c",
   "metadata": {},
   "outputs": [],
   "source": []
  }
 ],
 "metadata": {
  "kernelspec": {
   "display_name": "Python 3 (ipykernel)",
   "language": "python",
   "name": "python3"
  },
  "language_info": {
   "codemirror_mode": {
    "name": "ipython",
    "version": 3
   },
   "file_extension": ".py",
   "mimetype": "text/x-python",
   "name": "python",
   "nbconvert_exporter": "python",
   "pygments_lexer": "ipython3",
   "version": "3.12.9"
  }
 },
 "nbformat": 4,
 "nbformat_minor": 5
}
