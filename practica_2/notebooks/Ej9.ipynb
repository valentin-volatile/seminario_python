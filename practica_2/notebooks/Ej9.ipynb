{
 "cells": [
  {
   "cell_type": "code",
   "execution_count": 1,
   "id": "19b4d165-ddb4-47f4-ab3c-00f83e751f4b",
   "metadata": {},
   "outputs": [
    {
     "name": "stdout",
     "output_type": "stream",
     "text": [
      "Lista limpia de clientes al realizar todas las operaciones:\n",
      "\n",
      "['Alejandro González', 'Ana López', 'Andrés Ocampo', 'Carlos Mendes', 'Claudia Torres', 'Damián Castillo', 'Gabriela Ruíz', 'Juan Pérez', 'Laura Ramos', 'Luis Rodríguez', 'Marta Suárez', 'María Martínez', 'Miguel Ángel', 'Monica Herrera', 'Patricia Vega', 'Pedro Gómez', 'Ricardo Fernández', 'Sandra Morales']\n"
     ]
    }
   ],
   "source": [
    "import sys\n",
    "import os\n",
    "\n",
    "# Obtener la ruta absoluta del directorio raíz del proyecto\n",
    "sys.path.append(os.path.abspath(\"../src\"))\n",
    "\n",
    "from funciones import remove_extra_spaces, format_names, remove_duplicates, remove_empty_names\n",
    "\n",
    "clients = [\n",
    "    \" Ana López \", \"Pedro Gómez\", \"maria martínez\", \"Pedro Gómez \", \"\",\n",
    "    \" Luis Rodríguez \", None, \"ana lópez\", \"JUAN PÉREZ\", \"MARTA SUÁREZ\",\n",
    "    \"luis rodríguez\", \"maría martínez \", \" claudia torres\", \"CLAUDIA TORRES\",\n",
    "    \" \", \"pedro gómez\", \"Juan Pérez\", None, \"Ricardo Fernández\", \"LAURA RAMOS\",\n",
    "    \"carlos mendes\", \"RICARDO FERNÁNDEZ \", \" Laura ramos\", \"CARLOS MENDES\",\n",
    "    \"alejandro gonzález\", \" ALEJANDRO GONZÁLEZ \", \"Patricia Vega\",\n",
    "    \"patricia VEGA\", \"Andrés Ocampo\", \" andrés ocampo\", \"Monica Herrera\",\n",
    "    \"MONICA HERRERA \", \"gabriela ruíz\", \"Gabriela Ruíz\", \"sandra morales\",\n",
    "    \"SANDRA MORALES\", \"miguel ángel\", \"Miguel Ángel \", \" Damián Castillo\",\n",
    "    \"Damián Castillo \", None, \"\", \" \"\n",
    "]\n",
    "\n",
    "# Interpreté que la lista debe ser pasada como parámetro y modificada por las funciones\n",
    "remove_empty_names(clients)\n",
    "remove_extra_spaces(clients)\n",
    "format_names(clients)\n",
    "remove_duplicates(clients)\n",
    "\n",
    "print(\"Lista limpia de clientes al realizar todas las operaciones:\\n\")\n",
    "print(clients)"
   ]
  }
 ],
 "metadata": {
  "kernelspec": {
   "display_name": "Python 3 (ipykernel)",
   "language": "python",
   "name": "python3"
  },
  "language_info": {
   "codemirror_mode": {
    "name": "ipython",
    "version": 3
   },
   "file_extension": ".py",
   "mimetype": "text/x-python",
   "name": "python",
   "nbconvert_exporter": "python",
   "pygments_lexer": "ipython3",
   "version": "3.12.9"
  }
 },
 "nbformat": 4,
 "nbformat_minor": 5
}
