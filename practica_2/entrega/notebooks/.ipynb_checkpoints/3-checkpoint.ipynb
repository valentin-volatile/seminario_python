{
 "cells": [
  {
   "cell_type": "code",
   "execution_count": 3,
   "id": "c0ef7519-da74-4c2c-a314-76da5904ec1f",
   "metadata": {},
   "outputs": [
    {
     "name": "stdin",
     "output_type": "stream",
     "text": [
      "Inserte una palabra clave:  los\n"
     ]
    },
    {
     "name": "stdout",
     "output_type": "stream",
     "text": [
      "Respeta a los demás. No se permiten insultos ni lenguaje\n",
      "Usa los canales adecuados para cada tema.\n",
      "Sigue las instrucciones de los moderadores.\n"
     ]
    }
   ],
   "source": [
    "rules = \"\"\"Respeta a los demás. No se permiten insultos ni lenguaje ofensivo.\n",
    "Evita el spam. No publiques enlaces sospechosos o repetitivos.\n",
    "No compartas información personal.\n",
    "Usa los canales adecuados para cada tema.\n",
    "Sigue las instrucciones de los moderadores.\"\"\"\n",
    "\n",
    "keyword = input(\"Inserte una palabra clave: \")\n",
    "\n",
    "for rule in rules.split(\"\\n\"):\n",
    "    if(keyword in rule): print(rule)"
   ]
  },
  {
   "cell_type": "code",
   "execution_count": null,
   "id": "b06c2576-97b3-4be8-8c55-03ba19d9f18a",
   "metadata": {},
   "outputs": [],
   "source": []
  }
 ],
 "metadata": {
  "kernelspec": {
   "display_name": "Python 3 (ipykernel)",
   "language": "python",
   "name": "python3"
  },
  "language_info": {
   "codemirror_mode": {
    "name": "ipython",
    "version": 3
   },
   "file_extension": ".py",
   "mimetype": "text/x-python",
   "name": "python",
   "nbconvert_exporter": "python",
   "pygments_lexer": "ipython3",
   "version": "3.12.9"
  }
 },
 "nbformat": 4,
 "nbformat_minor": 5
}
