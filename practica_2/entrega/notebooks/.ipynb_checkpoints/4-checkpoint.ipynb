{
 "cells": [
  {
   "cell_type": "code",
   "execution_count": 26,
   "id": "971fd27c-28ab-4e7d-abc6-1eb61ab123e6",
   "metadata": {},
   "outputs": [
    {
     "name": "stdout",
     "output_type": "stream",
     "text": [
      "Los nombres de usuario deben:\n",
      "    - Solo contener letras y números\n",
      "    - Contener al menos 5 caractere\n",
      "    - Contener al menos un número\n",
      "    - Contener al menos una mayúscula\n"
     ]
    },
    {
     "name": "stdin",
     "output_type": "stream",
     "text": [
      "Ingrese su nombre de usuario:  Valen123\n"
     ]
    },
    {
     "name": "stdout",
     "output_type": "stream",
     "text": [
      "123\n",
      "Valen123\n",
      "No cumple\n"
     ]
    }
   ],
   "source": [
    "print(\"\"\"Los nombres de usuario deben:\n",
    "    - Solo contener letras y números\n",
    "    - Contener al menos 5 caractere\n",
    "    - Contener al menos un número\n",
    "    - Contener al menos una mayúscula\"\"\")\n",
    "\n",
    "username = input(\"Ingrese su nombre de usuario: \")\n",
    "cumple = True\n",
    "\n",
    "#chequeo largo\n",
    "if(len(username)<5): cumple = False \n",
    "    \n",
    "#chequeo numero\n",
    "only_numbers = \"\".join(char for char in username if char in \"0123456789\")\n",
    "if(len(only_numbers) == 0): cumple = False\n",
    "print(only_numbers)\n",
    "\n",
    "#chequeo mayuscula\n",
    "if(username.lower() == username): cumple = False\n",
    "print(username)   \n",
    "#chequeo que sea alfanumerica\n",
    "if(not username.isalpha()): cumple = False;\n",
    "\n",
    "\n",
    "print(\"Cumple\" if cumple else \"No cumple\")"
   ]
  },
  {
   "cell_type": "code",
   "execution_count": null,
   "id": "b1cfe8d3-b8e3-42ee-9f72-c103dfefea1e",
   "metadata": {},
   "outputs": [],
   "source": []
  }
 ],
 "metadata": {
  "kernelspec": {
   "display_name": "Python 3 (ipykernel)",
   "language": "python",
   "name": "python3"
  },
  "language_info": {
   "codemirror_mode": {
    "name": "ipython",
    "version": 3
   },
   "file_extension": ".py",
   "mimetype": "text/x-python",
   "name": "python",
   "nbconvert_exporter": "python",
   "pygments_lexer": "ipython3",
   "version": "3.12.9"
  }
 },
 "nbformat": 4,
 "nbformat_minor": 5
}
