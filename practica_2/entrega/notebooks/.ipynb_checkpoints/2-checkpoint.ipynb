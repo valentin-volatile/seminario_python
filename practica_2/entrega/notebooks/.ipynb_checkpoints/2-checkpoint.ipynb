{
 "cells": [
  {
   "cell_type": "code",
   "execution_count": 4,
   "id": "c4c57afa-d0ba-40df-a4cb-f6540234f836",
   "metadata": {},
   "outputs": [
    {
     "name": "stdout",
     "output_type": "stream",
     "text": [
      "El título más largo es: \"Jugando al nuevo FPS del momento con amigos\"\n"
     ]
    }
   ],
   "source": [
    "titles = [\n",
    "    \"Speedrun de Super Mario en tiempo récord\",\n",
    "    \"Charla sobre desarrollo de videojuegos\",\n",
    "    \"Jugando al nuevo FPS del momento con amigos\",\n",
    "    \"Música en vivo: improvisaciones al piano\"\n",
    "]\n",
    "\n",
    "max_words = 0\n",
    "max_title = \"\"\n",
    "\n",
    "for title in titles:\n",
    "    cant_words = len(title.split())\n",
    "    if(cant_words > max_words):\n",
    "        max_words = cant_words;\n",
    "        max_title = title;\n",
    "\n",
    "print(f'El título más largo es: \"{max_title}\"')\n"
   ]
  },
  {
   "cell_type": "code",
   "execution_count": null,
   "id": "1fe7e6c9-45da-4958-8e37-37ea74928463",
   "metadata": {},
   "outputs": [],
   "source": []
  }
 ],
 "metadata": {
  "kernelspec": {
   "display_name": "Python 3 (ipykernel)",
   "language": "python",
   "name": "python3"
  },
  "language_info": {
   "codemirror_mode": {
    "name": "ipython",
    "version": 3
   },
   "file_extension": ".py",
   "mimetype": "text/x-python",
   "name": "python",
   "nbconvert_exporter": "python",
   "pygments_lexer": "ipython3",
   "version": "3.12.9"
  }
 },
 "nbformat": 4,
 "nbformat_minor": 5
}
